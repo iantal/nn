{
 "cells": [
  {
   "cell_type": "code",
   "execution_count": 1,
   "metadata": {},
   "outputs": [
    {
     "name": "stdout",
     "output_type": "stream",
     "text": [
      "Requirement already satisfied: wfdb in /Users/miki/opt/anaconda3/lib/python3.7/site-packages (2.2.1)\n",
      "Requirement already satisfied: nose>=1.3.7 in /Users/miki/opt/anaconda3/lib/python3.7/site-packages (from wfdb) (1.3.7)\n",
      "Requirement already satisfied: scipy>=0.19.0 in /Users/miki/opt/anaconda3/lib/python3.7/site-packages (from wfdb) (1.4.1)\n",
      "Requirement already satisfied: pandas>=0.19.1 in /Users/miki/opt/anaconda3/lib/python3.7/site-packages (from wfdb) (0.25.1)\n",
      "Requirement already satisfied: sklearn>=0.0 in /Users/miki/opt/anaconda3/lib/python3.7/site-packages (from wfdb) (0.0)\n",
      "Requirement already satisfied: numpy>=1.11.0 in /Users/miki/opt/anaconda3/lib/python3.7/site-packages (from wfdb) (1.17.2)\n",
      "Requirement already satisfied: requests>=2.10.0 in /Users/miki/opt/anaconda3/lib/python3.7/site-packages (from wfdb) (2.22.0)\n",
      "Requirement already satisfied: matplotlib>=1.5.1 in /Users/miki/opt/anaconda3/lib/python3.7/site-packages (from wfdb) (3.1.1)\n",
      "Requirement already satisfied: python-dateutil>=2.6.1 in /Users/miki/opt/anaconda3/lib/python3.7/site-packages (from pandas>=0.19.1->wfdb) (2.8.0)\n",
      "Requirement already satisfied: pytz>=2017.2 in /Users/miki/opt/anaconda3/lib/python3.7/site-packages (from pandas>=0.19.1->wfdb) (2019.3)\n",
      "Requirement already satisfied: scikit-learn in /Users/miki/opt/anaconda3/lib/python3.7/site-packages (from sklearn>=0.0->wfdb) (0.21.3)\n",
      "Requirement already satisfied: chardet<3.1.0,>=3.0.2 in /Users/miki/opt/anaconda3/lib/python3.7/site-packages (from requests>=2.10.0->wfdb) (3.0.4)\n",
      "Requirement already satisfied: certifi>=2017.4.17 in /Users/miki/opt/anaconda3/lib/python3.7/site-packages (from requests>=2.10.0->wfdb) (2019.9.11)\n",
      "Requirement already satisfied: idna<2.9,>=2.5 in /Users/miki/opt/anaconda3/lib/python3.7/site-packages (from requests>=2.10.0->wfdb) (2.8)\n",
      "Requirement already satisfied: urllib3!=1.25.0,!=1.25.1,<1.26,>=1.21.1 in /Users/miki/opt/anaconda3/lib/python3.7/site-packages (from requests>=2.10.0->wfdb) (1.24.2)\n",
      "Requirement already satisfied: cycler>=0.10 in /Users/miki/opt/anaconda3/lib/python3.7/site-packages (from matplotlib>=1.5.1->wfdb) (0.10.0)\n",
      "Requirement already satisfied: kiwisolver>=1.0.1 in /Users/miki/opt/anaconda3/lib/python3.7/site-packages (from matplotlib>=1.5.1->wfdb) (1.1.0)\n",
      "Requirement already satisfied: pyparsing!=2.0.4,!=2.1.2,!=2.1.6,>=2.0.1 in /Users/miki/opt/anaconda3/lib/python3.7/site-packages (from matplotlib>=1.5.1->wfdb) (2.4.2)\n",
      "Requirement already satisfied: six>=1.5 in /Users/miki/opt/anaconda3/lib/python3.7/site-packages (from python-dateutil>=2.6.1->pandas>=0.19.1->wfdb) (1.12.0)\n",
      "Requirement already satisfied: joblib>=0.11 in /Users/miki/opt/anaconda3/lib/python3.7/site-packages (from scikit-learn->sklearn>=0.0->wfdb) (0.13.2)\n",
      "Requirement already satisfied: setuptools in /Users/miki/opt/anaconda3/lib/python3.7/site-packages (from kiwisolver>=1.0.1->matplotlib>=1.5.1->wfdb) (41.4.0)\n",
      "Requirement already satisfied: biosppy in /Users/miki/opt/anaconda3/lib/python3.7/site-packages (0.6.1)\n",
      "Requirement already satisfied: scikit-learn in /Users/miki/opt/anaconda3/lib/python3.7/site-packages (from biosppy) (0.21.3)\n",
      "Requirement already satisfied: six in /Users/miki/opt/anaconda3/lib/python3.7/site-packages (from biosppy) (1.12.0)\n",
      "Requirement already satisfied: matplotlib in /Users/miki/opt/anaconda3/lib/python3.7/site-packages (from biosppy) (3.1.1)\n",
      "Requirement already satisfied: bidict in /Users/miki/opt/anaconda3/lib/python3.7/site-packages (from biosppy) (0.19.0)\n",
      "Requirement already satisfied: shortuuid in /Users/miki/opt/anaconda3/lib/python3.7/site-packages (from biosppy) (0.5.0)\n",
      "Requirement already satisfied: h5py in /Users/miki/opt/anaconda3/lib/python3.7/site-packages (from biosppy) (2.9.0)\n",
      "Requirement already satisfied: scipy in /Users/miki/opt/anaconda3/lib/python3.7/site-packages (from biosppy) (1.4.1)\n",
      "Requirement already satisfied: numpy in /Users/miki/opt/anaconda3/lib/python3.7/site-packages (from biosppy) (1.17.2)\n",
      "Requirement already satisfied: joblib>=0.11 in /Users/miki/opt/anaconda3/lib/python3.7/site-packages (from scikit-learn->biosppy) (0.13.2)\n",
      "Requirement already satisfied: cycler>=0.10 in /Users/miki/opt/anaconda3/lib/python3.7/site-packages (from matplotlib->biosppy) (0.10.0)\n",
      "Requirement already satisfied: kiwisolver>=1.0.1 in /Users/miki/opt/anaconda3/lib/python3.7/site-packages (from matplotlib->biosppy) (1.1.0)\n",
      "Requirement already satisfied: pyparsing!=2.0.4,!=2.1.2,!=2.1.6,>=2.0.1 in /Users/miki/opt/anaconda3/lib/python3.7/site-packages (from matplotlib->biosppy) (2.4.2)\n",
      "Requirement already satisfied: python-dateutil>=2.1 in /Users/miki/opt/anaconda3/lib/python3.7/site-packages (from matplotlib->biosppy) (2.8.0)\n",
      "Requirement already satisfied: setuptools in /Users/miki/opt/anaconda3/lib/python3.7/site-packages (from kiwisolver>=1.0.1->matplotlib->biosppy) (41.4.0)\n",
      "Requirement already satisfied: opencv-python in /Users/miki/opt/anaconda3/lib/python3.7/site-packages (4.2.0.32)\n",
      "Requirement already satisfied: numpy>=1.14.5 in /Users/miki/opt/anaconda3/lib/python3.7/site-packages (from opencv-python) (1.17.2)\n"
     ]
    }
   ],
   "source": [
    "!pip install wfdb\n",
    "!pip install biosppy\n",
    "!pip install opencv-python"
   ]
  },
  {
   "cell_type": "code",
   "execution_count": 2,
   "metadata": {},
   "outputs": [],
   "source": [
    "from __future__ import division, print_function\n",
    "\n",
    "import json\n",
    "import sys\n",
    "import os\n",
    "from glob import glob\n",
    "import re\n",
    "import wfdb\n",
    "import cv2\n",
    "import pandas as pd\n",
    "import numpy as np\n",
    "import biosppy\n",
    "import matplotlib.pyplot as plt\n",
    "from sklearn.utils import class_weight\n",
    "\n",
    "from tensorflow.keras.applications.imagenet_utils import preprocess_input, decode_predictions\n",
    "from tensorflow.keras.models import save_model, load_model\n",
    "from tensorflow.keras.preprocessing import image\n",
    "from tensorflow.keras.callbacks import History\n",
    "from tensorflow.keras.models import Sequential\n",
    "from tensorflow.keras.layers import Conv2D, BatchNormalization, MaxPool2D, ELU, Dropout, Dense, Flatten\n",
    "from tensorflow.keras import backend as K\n",
    "import tensorflow as tf"
   ]
  },
  {
   "cell_type": "code",
   "execution_count": 3,
   "metadata": {},
   "outputs": [],
   "source": [
    "def signal_to_image(signal, folder_name, record_ind, signal_ind):\n",
    "    fig = plt.figure(frameon=False)\n",
    "    plt.plot(signal, linewidth=3.5) \n",
    "    plt.xticks([]), plt.yticks([])\n",
    "    for spine in plt.gca().spines.values():\n",
    "        spine.set_visible(False)\n",
    "\n",
    "    filename = folder_name + '/' + str(record_ind) + '_' + str(signal_ind) + '.png'\n",
    "    \n",
    "    fig.savefig(filename)\n",
    "    im_gray = cv2.imread(filename, cv2.IMREAD_GRAYSCALE)\n",
    "    im_gray = cv2.resize(im_gray, (128, 128))\n",
    "    cv2.imwrite(filename, im_gray)\n",
    "    plt.close(fig)\n",
    "\n",
    "    return im_gray"
   ]
  },
  {
   "cell_type": "code",
   "execution_count": 4,
   "metadata": {},
   "outputs": [],
   "source": [
    "def create_pic(beats, symbols, signals, record_ind, signal_ind, file, directory):  \n",
    "    class_to_idx = {'nor': 1, 'lbb': 2, 'rbb': 5, 'apc': 0, 'pvc': 4, 'pab': 3, 'veb': 6, 'vfw': 7}\n",
    "    idx_to_class = dict(zip(class_to_idx.values(), class_to_idx.keys()))\n",
    "\n",
    "    symbol_to_label = {'N':'nor', 'L':'lbb', 'R':'rbb', 'A':'apc', 'V':'pvc', '/':'pab', 'E':'veb', '!':'vfw'}  \n",
    "    for i in range(len(beats)):\n",
    "        if symbols[i] in list(symbol_to_label.keys()):\n",
    "            left_ind = 0 if i == 0 else beats[i - 1] + 20\n",
    "            right_ind = len(signals) if i == len(beats) - 1 else beats[i + 1] - 20\n",
    "            signal = signals[left_ind: right_ind]\n",
    "\n",
    "            signal_to_image(signal, directory, record_ind, signal_ind)\n",
    "    \n",
    "            with open(file, 'a') as f:\n",
    "                f.write(str(record_ind) + '_' + str(signal_ind) + ' ' + str(class_to_idx[symbol_to_label[symbols[i]]]))\n",
    "                f.write('\\n')\n",
    "                \n",
    "            signal_ind += 1"
   ]
  },
  {
   "cell_type": "code",
   "execution_count": 5,
   "metadata": {},
   "outputs": [
    {
     "name": "stdout",
     "output_type": "stream",
     "text": [
      "Current index: 0\n",
      "Current index: 1\n",
      "Current index: 2\n",
      "Current index: 3\n",
      "Current index: 4\n",
      "Current index: 5\n",
      "Current index: 6\n",
      "Current index: 7\n"
     ]
    }
   ],
   "source": [
    "records = ['101', '105', '114', '118', '124', '201', '210', '217']\n",
    "for record_ind, record in enumerate(records):\n",
    "    print(\"Current index: \" + str(record_ind))\n",
    "    signals = wfdb.rdsamp(\"test/\" + record, channels=[0])[0]\n",
    "    ann = wfdb.rdann(\"test/\" + record, 'atr') \n",
    "    symbols = ann.symbol\n",
    "    beats = list(ann.sample)\n",
    "\n",
    "    create_pic(beats, symbols, signals, record_ind, 0, \"labels-test.txt\", 'test-imgs')"
   ]
  },
  {
   "cell_type": "code",
   "execution_count": null,
   "metadata": {},
   "outputs": [
    {
     "name": "stdout",
     "output_type": "stream",
     "text": [
      "Current index: 0\n"
     ]
    }
   ],
   "source": [
    "records = ['100', '102', '103', '104', '106', '107', '108', '109','111', '112','113','115','116','117','119','121','122','123','200','202','203','205','207','208','209','212','213','214','215','219','220','221','222','223','228','230','231','232','233','234']\n",
    "for record_ind, record in enumerate(records):\n",
    "    print(\"Current index: \" + str(record_ind))\n",
    "    signals = wfdb.rdsamp(\"train/\" + record, channels=[0])[0]\n",
    "    ann = wfdb.rdann(\"train/\" + record, 'atr') \n",
    "    symbols = ann.symbol\n",
    "    beats = list(ann.sample)\n",
    "\n",
    "    create_pic(beats, symbols, signals, record_ind, 0, \"labels-train.txt\", 'train-imgs')"
   ]
  },
  {
   "cell_type": "code",
   "execution_count": null,
   "metadata": {},
   "outputs": [],
   "source": []
  }
 ],
 "metadata": {
  "kernelspec": {
   "display_name": "Python 3",
   "language": "python",
   "name": "python3"
  },
  "language_info": {
   "codemirror_mode": {
    "name": "ipython",
    "version": 3
   },
   "file_extension": ".py",
   "mimetype": "text/x-python",
   "name": "python",
   "nbconvert_exporter": "python",
   "pygments_lexer": "ipython3",
   "version": "3.7.4"
  }
 },
 "nbformat": 4,
 "nbformat_minor": 4
}
