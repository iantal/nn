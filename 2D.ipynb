{
 "cells": [
  {
   "cell_type": "code",
   "execution_count": 1,
   "metadata": {},
   "outputs": [
    {
     "name": "stdout",
     "output_type": "stream",
     "text": [
      "Requirement already satisfied: wfdb in /Users/miki/opt/anaconda3/lib/python3.7/site-packages (2.2.1)\n",
      "Requirement already satisfied: requests>=2.10.0 in /Users/miki/opt/anaconda3/lib/python3.7/site-packages (from wfdb) (2.22.0)\n",
      "Requirement already satisfied: scipy>=0.19.0 in /Users/miki/opt/anaconda3/lib/python3.7/site-packages (from wfdb) (1.4.1)\n",
      "Requirement already satisfied: sklearn>=0.0 in /Users/miki/opt/anaconda3/lib/python3.7/site-packages (from wfdb) (0.0)\n",
      "Requirement already satisfied: nose>=1.3.7 in /Users/miki/opt/anaconda3/lib/python3.7/site-packages (from wfdb) (1.3.7)\n",
      "Requirement already satisfied: numpy>=1.11.0 in /Users/miki/opt/anaconda3/lib/python3.7/site-packages (from wfdb) (1.17.2)\n",
      "Requirement already satisfied: matplotlib>=1.5.1 in /Users/miki/opt/anaconda3/lib/python3.7/site-packages (from wfdb) (3.1.1)\n",
      "Requirement already satisfied: pandas>=0.19.1 in /Users/miki/opt/anaconda3/lib/python3.7/site-packages (from wfdb) (0.25.1)\n",
      "Requirement already satisfied: chardet<3.1.0,>=3.0.2 in /Users/miki/opt/anaconda3/lib/python3.7/site-packages (from requests>=2.10.0->wfdb) (3.0.4)\n",
      "Requirement already satisfied: certifi>=2017.4.17 in /Users/miki/opt/anaconda3/lib/python3.7/site-packages (from requests>=2.10.0->wfdb) (2019.9.11)\n",
      "Requirement already satisfied: urllib3!=1.25.0,!=1.25.1,<1.26,>=1.21.1 in /Users/miki/opt/anaconda3/lib/python3.7/site-packages (from requests>=2.10.0->wfdb) (1.24.2)\n",
      "Requirement already satisfied: idna<2.9,>=2.5 in /Users/miki/opt/anaconda3/lib/python3.7/site-packages (from requests>=2.10.0->wfdb) (2.8)\n",
      "Requirement already satisfied: scikit-learn in /Users/miki/opt/anaconda3/lib/python3.7/site-packages (from sklearn>=0.0->wfdb) (0.21.3)\n",
      "Requirement already satisfied: cycler>=0.10 in /Users/miki/opt/anaconda3/lib/python3.7/site-packages (from matplotlib>=1.5.1->wfdb) (0.10.0)\n",
      "Requirement already satisfied: kiwisolver>=1.0.1 in /Users/miki/opt/anaconda3/lib/python3.7/site-packages (from matplotlib>=1.5.1->wfdb) (1.1.0)\n",
      "Requirement already satisfied: pyparsing!=2.0.4,!=2.1.2,!=2.1.6,>=2.0.1 in /Users/miki/opt/anaconda3/lib/python3.7/site-packages (from matplotlib>=1.5.1->wfdb) (2.4.2)\n",
      "Requirement already satisfied: python-dateutil>=2.1 in /Users/miki/opt/anaconda3/lib/python3.7/site-packages (from matplotlib>=1.5.1->wfdb) (2.8.0)\n",
      "Requirement already satisfied: pytz>=2017.2 in /Users/miki/opt/anaconda3/lib/python3.7/site-packages (from pandas>=0.19.1->wfdb) (2019.3)\n",
      "Requirement already satisfied: joblib>=0.11 in /Users/miki/opt/anaconda3/lib/python3.7/site-packages (from scikit-learn->sklearn>=0.0->wfdb) (0.13.2)\n",
      "Requirement already satisfied: six in /Users/miki/opt/anaconda3/lib/python3.7/site-packages (from cycler>=0.10->matplotlib>=1.5.1->wfdb) (1.12.0)\n",
      "Requirement already satisfied: setuptools in /Users/miki/opt/anaconda3/lib/python3.7/site-packages (from kiwisolver>=1.0.1->matplotlib>=1.5.1->wfdb) (41.4.0)\n",
      "Requirement already satisfied: biosppy in /Users/miki/opt/anaconda3/lib/python3.7/site-packages (0.6.1)\n",
      "Requirement already satisfied: bidict in /Users/miki/opt/anaconda3/lib/python3.7/site-packages (from biosppy) (0.19.0)\n",
      "Requirement already satisfied: scipy in /Users/miki/opt/anaconda3/lib/python3.7/site-packages (from biosppy) (1.4.1)\n",
      "Requirement already satisfied: h5py in /Users/miki/opt/anaconda3/lib/python3.7/site-packages (from biosppy) (2.9.0)\n",
      "Requirement already satisfied: shortuuid in /Users/miki/opt/anaconda3/lib/python3.7/site-packages (from biosppy) (0.5.0)\n",
      "Requirement already satisfied: six in /Users/miki/opt/anaconda3/lib/python3.7/site-packages (from biosppy) (1.12.0)\n",
      "Requirement already satisfied: scikit-learn in /Users/miki/opt/anaconda3/lib/python3.7/site-packages (from biosppy) (0.21.3)\n",
      "Requirement already satisfied: matplotlib in /Users/miki/opt/anaconda3/lib/python3.7/site-packages (from biosppy) (3.1.1)\n",
      "Requirement already satisfied: numpy in /Users/miki/opt/anaconda3/lib/python3.7/site-packages (from biosppy) (1.17.2)\n",
      "Requirement already satisfied: joblib>=0.11 in /Users/miki/opt/anaconda3/lib/python3.7/site-packages (from scikit-learn->biosppy) (0.13.2)\n",
      "Requirement already satisfied: cycler>=0.10 in /Users/miki/opt/anaconda3/lib/python3.7/site-packages (from matplotlib->biosppy) (0.10.0)\n",
      "Requirement already satisfied: kiwisolver>=1.0.1 in /Users/miki/opt/anaconda3/lib/python3.7/site-packages (from matplotlib->biosppy) (1.1.0)\n",
      "Requirement already satisfied: pyparsing!=2.0.4,!=2.1.2,!=2.1.6,>=2.0.1 in /Users/miki/opt/anaconda3/lib/python3.7/site-packages (from matplotlib->biosppy) (2.4.2)\n",
      "Requirement already satisfied: python-dateutil>=2.1 in /Users/miki/opt/anaconda3/lib/python3.7/site-packages (from matplotlib->biosppy) (2.8.0)\n",
      "Requirement already satisfied: setuptools in /Users/miki/opt/anaconda3/lib/python3.7/site-packages (from kiwisolver>=1.0.1->matplotlib->biosppy) (41.4.0)\n",
      "Requirement already satisfied: opencv-python in /Users/miki/opt/anaconda3/lib/python3.7/site-packages (4.2.0.32)\n",
      "Requirement already satisfied: numpy>=1.14.5 in /Users/miki/opt/anaconda3/lib/python3.7/site-packages (from opencv-python) (1.17.2)\n"
     ]
    }
   ],
   "source": [
    "!pip install wfdb\n",
    "!pip install biosppy\n",
    "!pip install opencv-python"
   ]
  },
  {
   "cell_type": "code",
   "execution_count": 2,
   "metadata": {},
   "outputs": [],
   "source": [
    "from __future__ import division, print_function\n",
    "\n",
    "import json\n",
    "import sys\n",
    "import os\n",
    "from glob import glob\n",
    "import re\n",
    "import wfdb\n",
    "import cv2\n",
    "import pandas as pd\n",
    "import numpy as np\n",
    "import biosppy\n",
    "import matplotlib.pyplot as plt\n",
    "from sklearn.utils import class_weight\n",
    "\n",
    "from tensorflow.keras.applications.imagenet_utils import preprocess_input, decode_predictions\n",
    "from tensorflow.keras.models import save_model, load_model\n",
    "from tensorflow.keras.preprocessing import image\n",
    "from tensorflow.keras.callbacks import History\n",
    "from tensorflow.keras.models import Sequential\n",
    "from tensorflow.keras.layers import Conv2D, BatchNormalization, MaxPool2D, ELU, Dropout, Dense, Flatten\n",
    "from tensorflow.keras import backend as K\n",
    "import tensorflow as tf\n",
    "\n",
    "\n",
    "TRAIN_PATH = 'train-imgs/'\n",
    "LABEL_TRAIN_PATH = 'labels-train.txt'\n",
    "\n",
    "TEST_PATH = 'test-imgs/'\n",
    "LABEL_TEST_PATH = 'labels-test.txt'"
   ]
  },
  {
   "cell_type": "markdown",
   "metadata": {},
   "source": [
    "# Dataset overview"
   ]
  },
  {
   "cell_type": "code",
   "execution_count": 3,
   "metadata": {},
   "outputs": [],
   "source": [
    "def plot_record(record, index):\n",
    "    fig, ax = plt.subplots(nrows=2, figsize=(18,6))\n",
    "    I = record[0][:, 0]\n",
    "    II = record[0][:, 1]\n",
    "\n",
    "    ax[0].plot(I)\n",
    "    ax[1].plot(II)\n",
    "    ax[0].set_ylabel('Lead II ' + index, color='B', fontweight='bold', fontsize='large')\n",
    "    ax[1].set_xlabel('Datapoints' + index, color='B', fontweight='bold', fontsize='large')\n",
    "    ax[1].set_ylabel('Lead II' + index, color='B', fontweight='bold', fontsize='large')"
   ]
  },
  {
   "cell_type": "code",
   "execution_count": 4,
   "metadata": {},
   "outputs": [],
   "source": [
    "# for file in get_file_indexes():\n",
    "#     plot_record(wfdb.rdsamp('mitdb/' + file, sampto=1000), file)"
   ]
  },
  {
   "cell_type": "code",
   "execution_count": 5,
   "metadata": {},
   "outputs": [],
   "source": [
    "class_to_idx = {\n",
    "    'apc': 0,\n",
    "    'nor': 1, \n",
    "    'lbb': 2, \n",
    "    'pab': 3, \n",
    "    'pvc': 4, \n",
    "    'rbb': 5,  \n",
    "    'veb': 6, \n",
    "    'vfw': 7\n",
    "}\n",
    "symbol_to_label = {\n",
    "    'N':'nor', \n",
    "    'L':'lbb', \n",
    "    'R':'rbb', \n",
    "    'A':'apc', \n",
    "    'V':'pvc', \n",
    "    '/':'pab', \n",
    "    'E':'veb', \n",
    "    '!':'vfw'\n",
    "}\n",
    "idx_to_class = dict(zip(class_to_idx.values(), class_to_idx.keys()))"
   ]
  },
  {
   "cell_type": "markdown",
   "metadata": {},
   "source": [
    "# Prepare test dataset"
   ]
  },
  {
   "cell_type": "code",
   "execution_count": 6,
   "metadata": {},
   "outputs": [],
   "source": [
    "test_paths = glob(TEST_PATH + '*.png')\n",
    "\n",
    "cropped_test_paths = {}\n",
    "begining = test_paths[0].rfind('/') + 1\n",
    "nums = []\n",
    "for path in test_paths:\n",
    "    end = path.rfind('.')\n",
    "    \n",
    "    number = path[begining:end]\n",
    "    nums.append(number)\n",
    "    record_n = int(number[:number.find('_')])\n",
    "    sig_n = int(number[number.find('_') + 1:])\n",
    "    \n",
    "    if cropped_test_paths.get(record_n) is None:\n",
    "        cropped_test_paths[record_n] = 0\n",
    "    cropped_test_paths[record_n] += 1"
   ]
  },
  {
   "cell_type": "code",
   "execution_count": 7,
   "metadata": {},
   "outputs": [
    {
     "data": {
      "text/plain": [
       "{0: 1863, 1: 2567, 2: 1873, 3: 2278, 4: 1580, 5: 1853, 6: 2618, 7: 1948}"
      ]
     },
     "execution_count": 7,
     "metadata": {},
     "output_type": "execute_result"
    }
   ],
   "source": [
    "dict(sorted(cropped_test_paths.items()))"
   ]
  },
  {
   "cell_type": "code",
   "execution_count": 8,
   "metadata": {},
   "outputs": [
    {
     "name": "stdout",
     "output_type": "stream",
     "text": [
      "16973\n",
      "16580\n",
      "16973\n"
     ]
    }
   ],
   "source": [
    "id_labels_test = {}\n",
    "count = 0\n",
    "lines = 0\n",
    "with open(LABEL_TEST_PATH, 'r') as f:\n",
    "    for line in f:\n",
    "        lines += 1\n",
    "        n, l = line.split()\n",
    "        if n in nums:\n",
    "            count += 1\n",
    "        id_labels_test[n] = int(l)\n",
    "\n",
    "len(id_labels_test)\n",
    "print(count)\n",
    "print(len(nums))\n",
    "print(lines)"
   ]
  },
  {
   "cell_type": "code",
   "execution_count": 15,
   "metadata": {},
   "outputs": [],
   "source": [
    "labels = np.array(list(id_labels_test.values()))\n",
    "NUM_CLASSES = len(np.unique(labels))\n",
    "\n",
    "indices = np.arange(len(labels))\n",
    "np.random.seed(123)\n",
    "np.random.shuffle(indices)"
   ]
  },
  {
   "cell_type": "code",
   "execution_count": 16,
   "metadata": {},
   "outputs": [],
   "source": [
    "def get_cropping_images(image):\n",
    "    #Left Top Crop\n",
    "    left_top = cv2.resize(image[:96, :96], (128, 128))\n",
    "\n",
    "    #Center Top Crop\n",
    "    center_top = cv2.resize(image[:96, 16:112], (128, 128))\n",
    "\n",
    "    #Right Top Crop\n",
    "    right_top = cv2.resize(image[:96, 32:], (128, 128))\n",
    "\n",
    "    #Left Center Crop\n",
    "    left_center = cv2.resize(image[16:112, :96], (128, 128))\n",
    "\n",
    "    #Center Center Crop\n",
    "    center_center = cv2.resize(image[16:112, 16:112], (128, 128))\n",
    "\n",
    "    #Right Center Crop    \n",
    "    right_center = cv2.resize(image[16:112, 32:], (128, 128))\n",
    "\n",
    "    #Left Bottom Crop\n",
    "    left_bottom = cv2.resize(image[32:, :96], (128, 128))\n",
    "\n",
    "    #Center Bottom Crop\n",
    "    center_bottom = cv2.resize(image[32:, 16:112], (128, 128))\n",
    "\n",
    "    #Right Bottom Crop    \n",
    "    right_bottom = cv2.resize(image[32:, 32:], (128, 128))\n",
    "\n",
    "    return np.array([left_top, center_top, right_top,\n",
    "            left_center, center_center, right_center,\n",
    "            left_bottom, center_bottom, right_bottom])"
   ]
  },
  {
   "cell_type": "code",
   "execution_count": 17,
   "metadata": {},
   "outputs": [],
   "source": [
    "def get_generator(ind, augment=False):\n",
    "    image = cv2.imread(test_paths[ind], cv2.IMREAD_GRAYSCALE)\n",
    "    number_path = test_paths[ind][test_paths[ind].rfind('/') + 1 : test_paths[ind].rfind('.')]\n",
    "   \n",
    "    label = id_labels_test[number_path]\n",
    "    \n",
    "    if augment and label != class_to_idx['nor']:\n",
    "        cropped_images = get_cropping_images(image)\n",
    "        images = np.vstack((np.expand_dims(image, axis=0), cropped_images)) \n",
    "        yield images, [label] * len(images)\n",
    "    else:\n",
    "        yield np.expand_dims(image, 0), [label]"
   ]
  },
  {
   "cell_type": "code",
   "execution_count": 18,
   "metadata": {},
   "outputs": [],
   "source": [
    "def raw_batch_generator(batch_size, augment=False, debug=False):\n",
    "    global batch_i\n",
    "    \n",
    "    generators = np.array([get_generator(ind, augment) for ind in range(len(test_paths))])\n",
    "    while True:\n",
    "        batch_indices = indices[(batch_i - 1) * batch_size : batch_i * batch_size]\n",
    "        batch_i += 1\n",
    "        yield [gen.__next__() for gen in generators[batch_indices]]"
   ]
  },
  {
   "cell_type": "code",
   "execution_count": 19,
   "metadata": {},
   "outputs": [],
   "source": [
    "def images_and_labels_generator(batch_size, augment=False):\n",
    "    for batch in raw_batch_generator(batch_size, augment):\n",
    "        batch_images = []\n",
    "        batch_labels = []\n",
    "        for e in batch:\n",
    "            batch_images.append(e[0])\n",
    "            batch_labels.extend(e[1])\n",
    "        batch_images = np.stack(batch_images, axis=0) if not augment else np.vstack(batch_images)\n",
    "        yield batch_images, batch_labels"
   ]
  },
  {
   "cell_type": "code",
   "execution_count": 22,
   "metadata": {},
   "outputs": [],
   "source": [
    "def train_iterator_test(batch_size, augment=False):      \n",
    "    for batch in images_and_labels_generator(batch_size, augment):\n",
    "        batch_images = batch[0]\n",
    "        batch_images = np.expand_dims(batch_images, -1)\n",
    "        batch_labels = keras.utils.to_categorical(batch[1], NUM_CLASSES)\n",
    "        yield batch_images, batch_labels"
   ]
  },
  {
   "cell_type": "code",
   "execution_count": 23,
   "metadata": {},
   "outputs": [
    {
     "data": {
      "text/plain": [
       "(140, 128, 128, 1)"
      ]
     },
     "execution_count": 23,
     "metadata": {},
     "output_type": "execute_result"
    }
   ],
   "source": [
    "import keras\n",
    "\n",
    "batch_i = 1\n",
    "train_iterator_test(32, augment=True).__next__()[0].shape"
   ]
  },
  {
   "cell_type": "markdown",
   "metadata": {},
   "source": [
    "# Prepare train dataset"
   ]
  },
  {
   "cell_type": "markdown",
   "metadata": {},
   "source": [
    "## Get images paths and get images IDs from the paths"
   ]
  },
  {
   "cell_type": "code",
   "execution_count": 24,
   "metadata": {},
   "outputs": [],
   "source": [
    "train_paths = glob(TRAIN_PATH + '*.png')\n",
    "\n",
    "cropped_train_paths = {}\n",
    "begining = train_paths[0].rfind('/') + 1\n",
    "\n",
    "for path in train_paths:\n",
    "    end = path.rfind('.')\n",
    "    \n",
    "    number = path[begining:end]\n",
    "    record_n = int(number[:number.find('_')])\n",
    "    sig_n = int(number[number.find('_') + 1:])\n",
    "    \n",
    "    if cropped_train_paths.get(record_n) is None:\n",
    "        cropped_train_paths[record_n] = 0\n",
    "    cropped_train_paths[record_n] += 1"
   ]
  },
  {
   "cell_type": "code",
   "execution_count": 26,
   "metadata": {},
   "outputs": [
    {
     "data": {
      "text/plain": [
       "91088"
      ]
     },
     "execution_count": 26,
     "metadata": {},
     "output_type": "execute_result"
    }
   ],
   "source": [
    "id_labels_train = {}\n",
    "with open(LABEL_TRAIN_PATH, 'r') as f:\n",
    "    for line in f:\n",
    "        n, l = line.split()\n",
    "        id_labels_train[n] = int(l)\n",
    "\n",
    "len(id_labels_train)"
   ]
  },
  {
   "cell_type": "code",
   "execution_count": 27,
   "metadata": {},
   "outputs": [],
   "source": [
    "labels = np.array(list(id_labels_train.values()))\n",
    "NUM_CLASSES = len(np.unique(labels))\n",
    "\n",
    "indices = np.arange(len(labels))\n",
    "np.random.seed(123)\n",
    "np.random.shuffle(indices)"
   ]
  },
  {
   "cell_type": "markdown",
   "metadata": {},
   "source": [
    "## Tha dataset is imbalanced, so we'll need to artificially augment smaller classes"
   ]
  },
  {
   "cell_type": "code",
   "execution_count": 28,
   "metadata": {},
   "outputs": [],
   "source": [
    "a = np.unique(list(id_labels_train.values()), return_counts=True)"
   ]
  },
  {
   "cell_type": "code",
   "execution_count": 29,
   "metadata": {},
   "outputs": [
    {
     "data": {
      "text/plain": [
       "array([0, 1, 2, 3, 4, 5, 6, 7])"
      ]
     },
     "execution_count": 29,
     "metadata": {},
     "output_type": "execute_result"
    }
   ],
   "source": [
    "a[0]"
   ]
  },
  {
   "cell_type": "code",
   "execution_count": 30,
   "metadata": {},
   "outputs": [
    {
     "data": {
      "image/png": "[encoded data removed]",
      "text/plain": [
       "<Figure size 1080x432 with 1 Axes>"
      ]
     },
     "metadata": {
      "needs_background": "light"
     },
     "output_type": "display_data"
    }
   ],
   "source": [
    "objects = a[0]\n",
    "y_pos = np.arange(len(objects))\n",
    "performance = a[1]\n",
    "\n",
    "plt.figure(figsize=(15,6))\n",
    "plt.barh(y_pos, performance, align='center')\n",
    "plt.xticks(y_pos, objects)\n",
    "plt.show()"
   ]
  },
  {
   "cell_type": "code",
   "execution_count": 31,
   "metadata": {},
   "outputs": [],
   "source": [
    "r = np.unique(list(id_labels_train.values()), return_counts=True)"
   ]
  },
  {
   "cell_type": "code",
   "execution_count": 32,
   "metadata": {},
   "outputs": [
    {
     "data": {
      "image/png": "[encoded data removed]",
      "text/plain": [
       "<Figure size 432x288 with 1 Axes>"
      ]
     },
     "metadata": {
      "needs_background": "light"
     },
     "output_type": "display_data"
    }
   ],
   "source": [
    "height = r[1]\n",
    "bars = r[0]\n",
    "y_pos = np.arange(len(bars))\n",
    "\n",
    "\n",
    "plt.bar(y_pos, height, color=['red'])\n",
    "plt.xticks(y_pos, bars)\n",
    "plt.show()"
   ]
  },
  {
   "cell_type": "markdown",
   "metadata": {},
   "source": [
    "# Balancing the dataset"
   ]
  },
  {
   "cell_type": "markdown",
   "metadata": {},
   "source": [
    "## This method augments smaller classes ten times cropping and shifting images"
   ]
  },
  {
   "cell_type": "code",
   "execution_count": 33,
   "metadata": {},
   "outputs": [],
   "source": [
    "def get_cropping_images(image):\n",
    "    #Left Top Crop\n",
    "    left_top = cv2.resize(image[:96, :96], (128, 128))\n",
    "\n",
    "    #Center Top Crop\n",
    "    center_top = cv2.resize(image[:96, 16:112], (128, 128))\n",
    "\n",
    "    #Right Top Crop\n",
    "    right_top = cv2.resize(image[:96, 32:], (128, 128))\n",
    "\n",
    "    #Left Center Crop\n",
    "    left_center = cv2.resize(image[16:112, :96], (128, 128))\n",
    "\n",
    "    #Center Center Crop\n",
    "    center_center = cv2.resize(image[16:112, 16:112], (128, 128))\n",
    "\n",
    "    #Right Center Crop    \n",
    "    right_center = cv2.resize(image[16:112, 32:], (128, 128))\n",
    "\n",
    "    #Left Bottom Crop\n",
    "    left_bottom = cv2.resize(image[32:, :96], (128, 128))\n",
    "\n",
    "    #Center Bottom Crop\n",
    "    center_bottom = cv2.resize(image[32:, 16:112], (128, 128))\n",
    "\n",
    "    #Right Bottom Crop    \n",
    "    right_bottom = cv2.resize(image[32:, 32:], (128, 128))\n",
    "\n",
    "    return np.array([left_top, center_top, right_top,\n",
    "            left_center, center_center, right_center,\n",
    "            left_bottom, center_bottom, right_bottom])"
   ]
  },
  {
   "cell_type": "markdown",
   "metadata": {},
   "source": [
    "To be consistent with the 1D test/train split, we'll define a list of test indexes corresponding to their records\n",
    "\n",
    "1D list: ```['101', '105', '114', '118', '124', '201', '210', '217']```  \n",
    "2D list: ```[1, 5, 13, 17, 22, 24, 31, 36]```"
   ]
  },
  {
   "cell_type": "code",
   "execution_count": 34,
   "metadata": {},
   "outputs": [],
   "source": [
    "def get_generator(ind, augment=False):\n",
    "    image = cv2.imread(train_paths[ind], cv2.IMREAD_GRAYSCALE)\n",
    "    number_path = train_paths[ind][train_paths[ind].rfind('/') + 1 : train_paths[ind].rfind('.')]\n",
    "   \n",
    "    label = id_labels_train[number_path]\n",
    "    \n",
    "    if augment and label != class_to_idx['nor']:\n",
    "        cropped_images = get_cropping_images(image)\n",
    "        images = np.vstack((np.expand_dims(image, axis=0), cropped_images)) \n",
    "        yield images, [label] * len(images)\n",
    "    else:\n",
    "        yield np.expand_dims(image, 0), [label]"
   ]
  },
  {
   "cell_type": "code",
   "execution_count": 35,
   "metadata": {},
   "outputs": [],
   "source": [
    "def raw_batch_generator(batch_size, augment=False, debug=False):\n",
    "    global batch_i\n",
    "    \n",
    "    generators = np.array([get_generator(ind, augment) for ind in range(len(train_paths))])\n",
    "    while True:\n",
    "        batch_indices = indices[(batch_i - 1) * batch_size : batch_i * batch_size]\n",
    "        batch_i += 1\n",
    "        yield [gen.__next__() for gen in generators[batch_indices]]"
   ]
  },
  {
   "cell_type": "code",
   "execution_count": 36,
   "metadata": {},
   "outputs": [],
   "source": [
    "def images_and_labels_generator(batch_size, augment=False):\n",
    "    for batch in raw_batch_generator(batch_size, augment):\n",
    "        batch_images = []\n",
    "        batch_labels = []\n",
    "        for e in batch:\n",
    "            batch_images.append(e[0])\n",
    "            batch_labels.extend(e[1])\n",
    "        batch_images = np.stack(batch_images, axis=0) if not augment else np.vstack(batch_images)\n",
    "        yield batch_images, batch_labels"
   ]
  },
  {
   "cell_type": "code",
   "execution_count": 37,
   "metadata": {},
   "outputs": [],
   "source": [
    "def train_iterator(batch_size, augment=False):      \n",
    "    for batch in images_and_labels_generator(batch_size, augment):\n",
    "        batch_images = batch[0]\n",
    "        batch_images = np.expand_dims(batch_images, -1)\n",
    "        batch_labels = keras.utils.to_categorical(batch[1], NUM_CLASSES)\n",
    "        yield batch_images, batch_labels"
   ]
  },
  {
   "cell_type": "code",
   "execution_count": 38,
   "metadata": {},
   "outputs": [
    {
     "name": "stdout",
     "output_type": "stream",
     "text": [
      "Requirement already satisfied: Keras in /Users/miki/opt/anaconda3/lib/python3.7/site-packages (2.3.1)\n",
      "Requirement already satisfied: h5py in /Users/miki/opt/anaconda3/lib/python3.7/site-packages (from Keras) (2.9.0)\n",
      "Requirement already satisfied: six>=1.9.0 in /Users/miki/opt/anaconda3/lib/python3.7/site-packages (from Keras) (1.12.0)\n",
      "Requirement already satisfied: keras-applications>=1.0.6 in /Users/miki/opt/anaconda3/lib/python3.7/site-packages (from Keras) (1.0.8)\n",
      "Requirement already satisfied: scipy>=0.14 in /Users/miki/opt/anaconda3/lib/python3.7/site-packages (from Keras) (1.4.1)\n",
      "Requirement already satisfied: pyyaml in /Users/miki/opt/anaconda3/lib/python3.7/site-packages (from Keras) (5.1.2)\n",
      "Requirement already satisfied: keras-preprocessing>=1.0.5 in /Users/miki/opt/anaconda3/lib/python3.7/site-packages (from Keras) (1.1.0)\n",
      "Requirement already satisfied: numpy>=1.9.1 in /Users/miki/opt/anaconda3/lib/python3.7/site-packages (from Keras) (1.17.2)\n"
     ]
    }
   ],
   "source": [
    "!pip install Keras"
   ]
  },
  {
   "cell_type": "code",
   "execution_count": 39,
   "metadata": {},
   "outputs": [
    {
     "data": {
      "text/plain": [
       "91088"
      ]
     },
     "execution_count": 39,
     "metadata": {},
     "output_type": "execute_result"
    }
   ],
   "source": [
    "len(id_labels_train)"
   ]
  },
  {
   "cell_type": "code",
   "execution_count": 40,
   "metadata": {},
   "outputs": [
    {
     "data": {
      "text/plain": [
       "91088"
      ]
     },
     "execution_count": 40,
     "metadata": {},
     "output_type": "execute_result"
    }
   ],
   "source": [
    "len(train_paths)"
   ]
  },
  {
   "cell_type": "code",
   "execution_count": 41,
   "metadata": {},
   "outputs": [
    {
     "data": {
      "text/plain": [
       "(149, 128, 128, 1)"
      ]
     },
     "execution_count": 41,
     "metadata": {},
     "output_type": "execute_result"
    }
   ],
   "source": [
    "import keras\n",
    "\n",
    "batch_i = 1\n",
    "train_iterator(32, augment=True).__next__()[0].shape"
   ]
  },
  {
   "cell_type": "markdown",
   "metadata": {},
   "source": [
    "# CNN Model"
   ]
  },
  {
   "cell_type": "code",
   "execution_count": null,
   "metadata": {},
   "outputs": [],
   "source": [
    "class ModelSaveCallback(keras.callbacks.Callback):\n",
    "    def __init__(self, file_name):\n",
    "        super(ModelSaveCallback, self).__init__()\n",
    "        self.file_name = file_name\n",
    "        self.f1s = []\n",
    "        \n",
    "    def on_epoch_end(self, epoch, logs=None):     \n",
    "        model_filename = self.file_name.format(epoch % 3)\n",
    "        save_model(self.model, model_filename)\n",
    "        print(\"Model saved in {}\".format(model_filename))\n",
    "        return"
   ]
  },
  {
   "cell_type": "markdown",
   "metadata": {},
   "source": [
    "## Custom F1 score mectric for measuring training quality"
   ]
  },
  {
   "cell_type": "code",
   "execution_count": null,
   "metadata": {},
   "outputs": [],
   "source": [
    "def f1(y_true, y_pred):\n",
    "    def recall(y_true, y_pred):\n",
    "        true_positives = K.sum(K.round(K.clip(y_true * y_pred, 0, 1)))\n",
    "        possible_positives = K.sum(K.round(K.clip(y_true, 0, 1)))\n",
    "        recall = true_positives / (possible_positives + K.epsilon())\n",
    "        return recall\n",
    "\n",
    "    def precision(y_true, y_pred):\n",
    "        true_positives = K.sum(K.round(K.clip(y_true * y_pred, 0, 1)))\n",
    "        predicted_positives = K.sum(K.round(K.clip(y_pred, 0, 1)))\n",
    "        precision = true_positives / (predicted_positives + K.epsilon())\n",
    "        return precision\n",
    "    precision = precision(y_true, y_pred)\n",
    "    recall = recall(y_true, y_pred)\n",
    "    f1_val = 2 * ((precision * recall) / (precision + recall + K.epsilon()))\n",
    "            \n",
    "    return f1_val"
   ]
  },
  {
   "cell_type": "markdown",
   "metadata": {},
   "source": [
    "## Define parameters for CNN training"
   ]
  },
  {
   "cell_type": "code",
   "execution_count": null,
   "metadata": {},
   "outputs": [],
   "source": [
    "IMAGE_SIZE = 128\n",
    "BATCH_SIZE = 16\n",
    "STEPS_PER_EPOCH = 10\n",
    "EPOCHS = 10"
   ]
  },
  {
   "cell_type": "code",
   "execution_count": null,
   "metadata": {},
   "outputs": [],
   "source": [
    "model = Sequential()\n",
    "\n",
    "model.add(Conv2D(64, (3, 3),strides=(1,1), input_shape=(IMAGE_SIZE, IMAGE_SIZE, 1), kernel_initializer='glorot_uniform'))\n",
    "model.add(ELU())\n",
    "model.add(BatchNormalization())\n",
    "\n",
    "model.add(Conv2D(64, (3, 3),strides=(1, 1),kernel_initializer='glorot_uniform'))\n",
    "model.add(ELU())\n",
    "model.add(BatchNormalization())\n",
    "model.add(MaxPool2D(pool_size=(2, 2), strides=(2, 2)))\n",
    "\n",
    "model.add(Conv2D(128, (3, 3), strides = (1, 1),kernel_initializer='glorot_uniform'))\n",
    "model.add(ELU())\n",
    "model.add(BatchNormalization())\n",
    "\n",
    "model.add(Conv2D(128, (3, 3),strides=(1, 1),kernel_initializer='glorot_uniform'))\n",
    "model.add(ELU())\n",
    "model.add(BatchNormalization())\n",
    "model.add(MaxPool2D(pool_size=(2, 2), strides=(2, 2)))\n",
    "\n",
    "model.add(Conv2D(256, (3, 3), strides=(1, 1),kernel_initializer='glorot_uniform'))\n",
    "model.add(ELU())\n",
    "model.add(BatchNormalization())\n",
    "\n",
    "model.add(Conv2D(256, (3, 3),strides=(1, 1),kernel_initializer='glorot_uniform'))\n",
    "model.add(ELU())\n",
    "model.add(BatchNormalization())\n",
    "model.add(MaxPool2D(pool_size=(2, 2), strides=(2, 2)))\n",
    "\n",
    "model.add(Flatten())\n",
    "model.add(Dense(2048))\n",
    "model.add(ELU())\n",
    "model.add(BatchNormalization())\n",
    "model.add(Dropout(0.5))\n",
    "\n",
    "model.add(Dense(8, activation='softmax'))\n",
    "\n",
    "model.summary()\n",
    "\n",
    "model.compile(\n",
    "  loss='categorical_crossentropy',\n",
    "  optimizer='adam',  # gradient clipping just in case\n",
    "  metrics=['accuracy'] \n",
    ")"
   ]
  },
  {
   "cell_type": "markdown",
   "metadata": {},
   "source": [
    "## Count class weights to cope with imbalanced dataset during training"
   ]
  },
  {
   "cell_type": "code",
   "execution_count": null,
   "metadata": {},
   "outputs": [],
   "source": [
    "labels_for_weights = labels\n",
    "for ind in [0, 2, 3, 4, 5, 6, 7]:\n",
    "    new_labels = np.full(sum(labels == ind) * 9, ind)\n",
    "    labels_for_weights = np.append(labels_for_weights, new_labels)\n",
    "print(\"Weights: \" + str(len(labels_for_weights)))\n",
    "\n",
    "class_weights = class_weight.compute_class_weight('balanced', np.unique(labels_for_weights), labels_for_weights)\n",
    "print(class_weights)"
   ]
  },
  {
   "cell_type": "code",
   "execution_count": null,
   "metadata": {},
   "outputs": [],
   "source": [
    "MODEL_FNAME = 'model_v3_{}'"
   ]
  },
  {
   "cell_type": "code",
   "execution_count": null,
   "metadata": {},
   "outputs": [],
   "source": [
    "def train_from_n_epoch(initial_epoch, load_fname):\n",
    "    global batch_i\n",
    "    global hist\n",
    "    \n",
    "    batch_i = initial_epoch * STEPS_PER_EPOCH + 1\n",
    "    hist = History()\n",
    "    model = load_model(load_fname, custom_objects={'f1':f1})\n",
    "\n",
    "    model.fit_generator(\n",
    "        train_iterator(BATCH_SIZE, augment=True), \n",
    "        steps_per_epoch=STEPS_PER_EPOCH,\n",
    "        epochs=EPOCHS,\n",
    "        callbacks=[ModelSaveCallback(MODEL_FNAME), hist],\n",
    "        verbose=1,  \n",
    "        class_weight=class_weights,\n",
    "        initial_epoch=initial_epoch\n",
    "    )"
   ]
  },
  {
   "cell_type": "code",
   "execution_count": null,
   "metadata": {},
   "outputs": [],
   "source": [
    "batch_i = 1\n",
    "hist = History()\n",
    "\n",
    "H = model.fit(\n",
    "    train_iterator(BATCH_SIZE, True), \n",
    "    epochs=3,\n",
    "    callbacks=[ModelSaveCallback(MODEL_FNAME), hist],\n",
    "    verbose=1,  \n",
    "    class_weight=class_weights,\n",
    "    initial_epoch=0\n",
    ")"
   ]
  },
  {
   "cell_type": "code",
   "execution_count": null,
   "metadata": {},
   "outputs": [],
   "source": [
    "# plot the training loss and accuracy\n",
    "plt.style.use(\"ggplot\")\n",
    "plt.figure()\n",
    "\n",
    "plt.plot(H.history[\"loss\"], label=\"train_loss\")\n",
    "plt.plot(H.history[\"val_loss\"], label=\"val_loss\")\n",
    "plt.plot(H.history[\"acc\"], label=\"train_acc\")\n",
    "plt.plot(H.history[\"val_acc\"], label=\"val_acc\")\n",
    "\n",
    "plt.title(\"Training Loss and Accuracy\")\n",
    "plt.xlabel(\"Epoch #\")\n",
    "plt.ylabel(\"Loss/Accuracy\")\n",
    "plt.legend()\n",
    "plt.show()"
   ]
  },
  {
   "cell_type": "code",
   "execution_count": null,
   "metadata": {},
   "outputs": [],
   "source": [
    "with open('f1_scores.txt', 'a') as fout:\n",
    "    for val in hist.history['f1']:\n",
    "        fout.write(str(val) + '\\n')\n",
    "        \n",
    "with open('cat_accuracies.txt', 'a') as fout:\n",
    "    for val in hist.history['categorical_accuracy']:\n",
    "        fout.write(str(val) + '\\n')"
   ]
  },
  {
   "cell_type": "markdown",
   "metadata": {},
   "source": [
    "# Quality"
   ]
  },
  {
   "cell_type": "code",
   "execution_count": null,
   "metadata": {},
   "outputs": [],
   "source": [
    "def predict_iterator(paths_test):\n",
    "    for i in range(len(paths_test)):\n",
    "        image = cv2.imread(paths_test[i], cv2.IMREAD_GRAYSCALE)\n",
    "        image = np.expand_dims(image, -1)\n",
    "        yield np.expand_dims(image, 0"
   ]
  },
  {
   "cell_type": "code",
   "execution_count": null,
   "metadata": {},
   "outputs": [],
   "source": [
    "labels_test = []\n",
    "for path in all_paths:\n",
    "    img_n = path[path.rfind('/') + 1 : path.rfind('.')]\n",
    "    labels_test.append(n_l[img_n])"
   ]
  },
  {
   "cell_type": "code",
   "execution_count": null,
   "metadata": {},
   "outputs": [],
   "source": [
    "preds = model.predict_generator(predict_iterator(all_paths), steps=len(all_paths), verbose=1)"
   ]
  },
  {
   "cell_type": "code",
   "execution_count": null,
   "metadata": {},
   "outputs": [],
   "source": [
    "labels_pred = np.argmax(preds, axis=1)\n",
    "labels_pred[:10]"
   ]
  },
  {
   "cell_type": "markdown",
   "metadata": {},
   "source": [
    "## Calculate confusion matrix and f1-score for each class"
   ]
  },
  {
   "cell_type": "code",
   "execution_count": null,
   "metadata": {},
   "outputs": [],
   "source": [
    "from sklearn.metrics import confusion_matrix, f1_score\n",
    "import seaborn as sns\n",
    "%matplotlib inline"
   ]
  },
  {
   "cell_type": "code",
   "execution_count": null,
   "metadata": {},
   "outputs": [],
   "source": [
    "conf_mtx = confusion_matrix(labels_test, labels_pred, labels=np.arange(8))"
   ]
  },
  {
   "cell_type": "code",
   "execution_count": null,
   "metadata": {},
   "outputs": [],
   "source": [
    "x = []\n",
    "for i in range(NUM_CLASSES):\n",
    "    x.append(idx_to_class[i].upper())"
   ]
  },
  {
   "cell_type": "code",
   "execution_count": null,
   "metadata": {},
   "outputs": [],
   "source": [
    "fig = plt.figure(figsize=(7, 5))\n",
    "ax = sns.heatmap(conf_mtx_1, annot=True, fmt='d', cmap=sns.cm.rocket_r, \n",
    "                 xticklabels=x, yticklabels=x, robust=True, \n",
    "                 linewidths=0.1, linecolor='grey')"
   ]
  },
  {
   "cell_type": "code",
   "execution_count": null,
   "metadata": {},
   "outputs": [],
   "source": [
    "f1_scores = f1_score(labels_pred, labels_test, average=None)\n",
    "f1_scores"
   ]
  },
  {
   "cell_type": "code",
   "execution_count": null,
   "metadata": {},
   "outputs": [],
   "source": [
    "np.mean(f1_scores)"
   ]
  }
 ],
 "metadata": {
  "kernelspec": {
   "display_name": "Python 3",
   "language": "python",
   "name": "python3"
  },
  "language_info": {
   "codemirror_mode": {
    "name": "ipython",
    "version": 3
   },
   "file_extension": ".py",
   "mimetype": "text/x-python",
   "name": "python",
   "nbconvert_exporter": "python",
   "pygments_lexer": "ipython3",
   "version": "3.7.4"
  }
 },
 "nbformat": 4,
 "nbformat_minor": 4
}
